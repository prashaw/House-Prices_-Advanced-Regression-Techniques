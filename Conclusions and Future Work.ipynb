{
 "cells": [
  {
   "cell_type": "markdown",
   "metadata": {},
   "source": [
    "## Conclusions and Future Work\n"
   ]
  },
  {
   "cell_type": "markdown",
   "metadata": {},
   "source": [
    "RMSE score results for individual models:\n",
    "\n",
    "Elastic Net > Lasso  > Ridge > XGB > Gradient Boosting > LGBM \n",
    "In the order of decreasing mean RMSE scores\n",
    "\n",
    "Best performing model for the prediction:\n",
    "Elastic Net with best RMSE mean score: 0.1103\n",
    "\n",
    "\n"
   ]
  },
  {
   "cell_type": "markdown",
   "metadata": {},
   "source": [
    "Best model that resulted from this study is with mean RMSE score for Elastic Net 0.1103\n",
    "\n",
    "A lot of trial and error into Stacking of models to get better prediction did not generate  better results, individual models performed better with their best RMSE scores\n",
    "\n",
    "Concatenating the data with information received from addressreport.com did not make prediction better, probably because low amount of data that could not be correlated better with SalesPrice\n",
    "\n",
    "This study can be extended to add more statistical analysis for the features so as to categories the columns into Best, Average and Bad based on the values present\n"
   ]
  },
  {
   "cell_type": "code",
   "execution_count": null,
   "metadata": {},
   "outputs": [],
   "source": []
  }
 ],
 "metadata": {
  "kernelspec": {
   "display_name": "Python 3",
   "language": "python",
   "name": "python3"
  }
 },
 "nbformat": 4,
 "nbformat_minor": 2
}
