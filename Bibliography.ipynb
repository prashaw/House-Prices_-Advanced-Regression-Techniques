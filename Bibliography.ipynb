{
 "cells": [
  {
   "cell_type": "markdown",
   "metadata": {},
   "source": [
    "## Bibliography\n",
    "\n",
    "Buteneers, P., Caluwaerts, K., Dambre, J., Verstraeten, D., & Schrauwen, B. (2013). Optimized Parameter Search for Large Datasets of the Regularization Parameter and Feature Selection for Ridge Regression. Neural Processing Letters,38(3), 403-416. doi:10.1007/s11063-013-9279-8\n",
    "\n",
    "\n",
    "Marquardt, D. W., & Snee, R. D. (1975). Ridge Regression in Practice. The American Statistician,29(1), 3-20. doi:10.1080/00031305.1975.10479105\n",
    "\n",
    "\n",
    "Pedregosa, F., Varoquaux, G., Gramfort, A., Michel, V., Thirion, B., Grisel, O., . . . Duchesnay, E. (2011). Scikit-learn: Machine Learning in Python. Journal of Machine Learning Research,12, 2825-2830. Retrieved March 26, 2018, from http://www.jmlr.org/papers/volume12/pedregosa11a/pedregosa11a.pdf\n",
    "\n",
    "\n",
    "Roy, S. S., Mittal, D., Basu, A., & Abraham, A. (2015). Stock Market Forecasting Using LASSO Linear Regression Model. Advances in Intelligent Systems and Computing Afro-European Conference for Industrial Advancement,371-381. doi:10.1007/978-3-319-13572-4_31\n",
    "\n",
    "\n",
    "Wang, H., Li, G., & Jiang, G. (2007). Robust Regression Shrinkage and Consistent Variable Selection Through the LAD-Lasso. Journal of Business & Economic Statistics,25(3), 347-355. doi:10.1198/073500106000000251\n"
   ]
  },
  {
   "cell_type": "code",
   "execution_count": null,
   "metadata": {},
   "outputs": [],
   "source": []
  }
 ],
 "metadata": {
  "kernelspec": {
   "display_name": "Python 3",
   "language": "python",
   "name": "python3"
  },
  "language_info": {
   "codemirror_mode": {
    "name": "ipython",
    "version": 3
   },
   "file_extension": ".py",
   "mimetype": "text/x-python",
   "name": "python",
   "nbconvert_exporter": "python",
   "pygments_lexer": "ipython3",
   "version": "3.6.4"
  }
 },
 "nbformat": 4,
 "nbformat_minor": 2
}
