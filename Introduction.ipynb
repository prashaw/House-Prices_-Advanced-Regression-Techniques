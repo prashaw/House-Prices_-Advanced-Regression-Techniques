{
 "cells": [
  {
   "cell_type": "markdown",
   "metadata": {},
   "source": [
    "# Group #13 Term Project Update\n",
    "\n",
    "## Ames, Iowa House Pricing Project\n",
    "\n",
    "\n",
    "27th April 2018\n",
    "\n",
    "\n",
    "Team Members:\n",
    "\n",
    "Prashant Wankhede (PRW19@pitt.edu)\n",
    "\n",
    "Abhishek Shankarnarayanan (ABS100@pitt.edu)\n",
    "\n",
    "John Falconi (JSF52@pitt.edu)\n",
    "\n",
    "Shreya Shenoy (KAS498@pitt.edu)\n",
    "\n"
   ]
  },
  {
   "cell_type": "markdown",
   "metadata": {},
   "source": [
    "# Introduction"
   ]
  },
  {
   "cell_type": "markdown",
   "metadata": {},
   "source": [
    "## \n",
    "For the term project, we are analyzing the “Ames, Iowa House Pricing Project” dataset on Kaggle. This dataset was compiled by Dean De Cock for use in data science education. It describes the sale of individual residential property in Ames, Iowa from 2006 to 2010. It contains data about factors that seemed to influence housing prices, 2930 observations and a large number of explanatory variables (23 nominal, 23 ordinal, 14 discrete, and 20 continuous) involved in assessing home values. There are approximately 81 factors to be considered that play into the final housing value. \n",
    " \n",
    "The following is a step-by-step description of the process we have used to analyze the data:\n",
    "•\tCorrelation Analysis\n",
    "•\tSalePrice Determinators\n",
    "•\tCleaning and filling the missing data\n",
    "•\tFeature Selection and Importance\n",
    "•\tParameter Tuning\n",
    "•\tAnalysing the model performance\n",
    "\n",
    "Each of these steps has been described in detail through the report.\n"
   ]
  },
  {
   "cell_type": "markdown",
   "metadata": {},
   "source": [
    "Mid-term Review: We had done an evaluation of the data and explored various factors that affect the final house value. A correlation analysis had been done and some of the sales price determinants were found. \n",
    "\n",
    "Now: We have gone through more extensive feature engineering and feature selection and have cleaned our data to fit the following models:\n",
    "\n",
    "Ridge \n",
    "\n",
    "Lasso \n",
    "\n",
    "LGBM Regressor \n",
    "\n",
    "Elastic Net \n",
    "\n",
    "Gradient Boosting \n",
    "\n",
    "XGBoost models.\n",
    "\n",
    "What's to come: In the last days leading up to the submission of the full report, we plan on refining and tuning our models as much as possible.\n",
    "\n"
   ]
  },
  {
   "cell_type": "code",
   "execution_count": null,
   "metadata": {},
   "outputs": [],
   "source": []
  }
 ],
 "metadata": {
  "kernelspec": {
   "display_name": "Python 3",
   "language": "python",
   "name": "python3"
  }
 },
 "nbformat": 4,
 "nbformat_minor": 2
}
